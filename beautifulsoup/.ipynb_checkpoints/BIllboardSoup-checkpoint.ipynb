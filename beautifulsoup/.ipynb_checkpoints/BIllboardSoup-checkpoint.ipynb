{
 "cells": [
  {
   "cell_type": "markdown",
   "metadata": {},
   "source": [
    "# Scraping Billboard for a list of artists\n",
    "\n",
    "### Steps\n",
    "\n",
    "\n",
    "### To Do\n",
    "Keep running it to expand the artist database."
   ]
  },
  {
   "cell_type": "code",
   "execution_count": 11,
   "metadata": {
    "collapsed": true
   },
   "outputs": [],
   "source": [
    "from bs4 import BeautifulSoup\n",
    "from urllib2 import urlopen\n",
    "from time import sleep\n",
    "import pandas as pd\n",
    "import unicodedata"
   ]
  },
  {
   "cell_type": "code",
   "execution_count": 2,
   "metadata": {
    "collapsed": true
   },
   "outputs": [],
   "source": [
    "BASE_URL = \"http://www.billboard.com/artists/\""
   ]
  },
  {
   "cell_type": "code",
   "execution_count": 3,
   "metadata": {
    "collapsed": true
   },
   "outputs": [],
   "source": [
    "def make_soup(url):\n",
    "\thtml = urlopen(url).read()\n",
    "\treturn BeautifulSoup(html, \"lxml\")"
   ]
  },
  {
   "cell_type": "code",
   "execution_count": 4,
   "metadata": {
    "collapsed": true
   },
   "outputs": [],
   "source": [
    "def get_Artists(artist_url):\n",
    "\tsoup = make_soup(artist_url)\n",
    "\n",
    "\tArtists = soup.findAll(\"span\",\"field-content\")\n",
    "\tartistList = [a.text for a in Artists]\n",
    "\t\n",
    "\treturn artistList"
   ]
  },
  {
   "cell_type": "markdown",
   "metadata": {},
   "source": [
    "Right now I'm openining a csv file and outputting directly into it. I'll probably also want to put it into a SQL database."
   ]
  },
  {
   "cell_type": "markdown",
   "metadata": {},
   "source": [
    "The following code tends to cut out with a 404 error sometimes. This may be related to tryung to query artists that aren't included? Or unicode problems? In any case, it's best to just reset the indices and skip a few."
   ]
  },
  {
   "cell_type": "code",
   "execution_count": 25,
   "metadata": {
    "collapsed": false
   },
   "outputs": [],
   "source": [
    "f = open('billboardArtists.csv','w')\n",
    "print >> f, \"Artist\"\n",
    "\n",
    "for let in 'abcdefghijklmnopqrstuvwxyz':\n",
    "    artistList = get_Artists(BASE_URL + let)\n",
    "    for a in artistList:\n",
    "        print >> f, unicodedata.normalize('NFKD', a).encode('ascii','ignore')\n",
    "\n",
    "        \n",
    "f.close()"
   ]
  },
  {
   "cell_type": "code",
   "execution_count": null,
   "metadata": {
    "collapsed": true
   },
   "outputs": [],
   "source": []
  }
 ],
 "metadata": {
  "kernelspec": {
   "display_name": "Python 2",
   "language": "python",
   "name": "python2"
  },
  "language_info": {
   "codemirror_mode": {
    "name": "ipython",
    "version": 2
   },
   "file_extension": ".py",
   "mimetype": "text/x-python",
   "name": "python",
   "nbconvert_exporter": "python",
   "pygments_lexer": "ipython2",
   "version": "2.7.10"
  }
 },
 "nbformat": 4,
 "nbformat_minor": 0
}
