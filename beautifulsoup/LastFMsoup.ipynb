{
 "cells": [
  {
   "cell_type": "markdown",
   "metadata": {},
   "source": [
    "# Scraping LastFM for similar artists\n",
    "\n",
    "### Steps\n",
    "\n",
    "\n",
    "### To Do\n",
    "Keep running it to expand the artist database."
   ]
  },
  {
   "cell_type": "code",
   "execution_count": 1,
   "metadata": {
    "collapsed": true
   },
   "outputs": [],
   "source": [
    "from bs4 import BeautifulSoup\n",
    "from urllib2 import urlopen\n",
    "from time import sleep\n",
    "import pandas as pd"
   ]
  },
  {
   "cell_type": "code",
   "execution_count": 2,
   "metadata": {
    "collapsed": true
   },
   "outputs": [],
   "source": [
    "BASE_URL = \"http://www.last.fm/music/\""
   ]
  },
  {
   "cell_type": "code",
   "execution_count": 4,
   "metadata": {
    "collapsed": true
   },
   "outputs": [],
   "source": [
    "def make_soup(url):\n",
    "\thtml = urlopen(url).read()\n",
    "\treturn BeautifulSoup(html, \"lxml\")"
   ]
  },
  {
   "cell_type": "code",
   "execution_count": 5,
   "metadata": {
    "collapsed": true
   },
   "outputs": [],
   "source": [
    "def get_simArtists(artist_url):\n",
    "\tsoup = make_soup(artist_url)\n",
    "\n",
    "\tsimArtists = soup.findAll(\"a\",\"link-block-target\")\n",
    "\trelArtistList = [a.text for a in simArtists]\n",
    "\t\n",
    "\treturn relArtistList"
   ]
  },
  {
   "cell_type": "code",
   "execution_count": 6,
   "metadata": {
    "collapsed": true
   },
   "outputs": [],
   "source": [
    "artistFile = pd.read_csv('artists.txt')"
   ]
  },
  {
   "cell_type": "code",
   "execution_count": 20,
   "metadata": {
    "collapsed": false
   },
   "outputs": [],
   "source": [
    "artistList = list(artistFile[2500:5000].Artist)"
   ]
  },
  {
   "cell_type": "markdown",
   "metadata": {},
   "source": [
    "Right now I'm openining a csv file and outputting directly into it. I'll probably also want to put it into a SQL database."
   ]
  },
  {
   "cell_type": "code",
   "execution_count": 21,
   "metadata": {
    "collapsed": false
   },
   "outputs": [],
   "source": [
    "f = open('relArtist.csv','w')\n",
    "print >> f, \"Artist,RelArtist\""
   ]
  },
  {
   "cell_type": "markdown",
   "metadata": {},
   "source": [
    "The following code tends to cut out with a 404 error sometimes. This may be related to tryung to query artists that aren't included? Or unicode problems? In any case, it's best to just reset the indices and skip a few."
   ]
  },
  {
   "cell_type": "code",
   "execution_count": 22,
   "metadata": {
    "collapsed": false
   },
   "outputs": [],
   "source": [
    "for i in artistList:\n",
    "    artist = i\n",
    "\n",
    "    try:\n",
    "        relList = get_simArtists(BASE_URL + artist + \"/+similar\")\n",
    "    except:\n",
    "        pass\n",
    "    for a in relList:\n",
    "        together = artist + ',' + a\n",
    "        try:\n",
    "            print >> f, together\n",
    "        except:\n",
    "            pass\n",
    "    sleep(1)\n",
    "    \n",
    "f.close()"
   ]
  },
  {
   "cell_type": "code",
   "execution_count": null,
   "metadata": {
    "collapsed": true
   },
   "outputs": [],
   "source": []
  }
 ],
 "metadata": {
  "kernelspec": {
   "display_name": "Python 2",
   "language": "python",
   "name": "python2"
  },
  "language_info": {
   "codemirror_mode": {
    "name": "ipython",
    "version": 2
   },
   "file_extension": ".py",
   "mimetype": "text/x-python",
   "name": "python",
   "nbconvert_exporter": "python",
   "pygments_lexer": "ipython2",
   "version": "2.7.10"
  }
 },
 "nbformat": 4,
 "nbformat_minor": 0
}
