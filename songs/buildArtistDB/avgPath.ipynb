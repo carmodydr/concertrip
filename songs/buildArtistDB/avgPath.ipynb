{
 "cells": [
  {
   "cell_type": "code",
   "execution_count": 1,
   "metadata": {
    "collapsed": true
   },
   "outputs": [],
   "source": [
    "# coding: utf-8\n",
    "# Calculate the average path length in this network\n",
    "import pandas as pd\n",
    "import networkx as nx\n",
    "from random import randint"
   ]
  },
  {
   "cell_type": "code",
   "execution_count": 28,
   "metadata": {
    "collapsed": true
   },
   "outputs": [],
   "source": [
    "import prettyplotlib as ppl"
   ]
  },
  {
   "cell_type": "code",
   "execution_count": 2,
   "metadata": {
    "collapsed": true
   },
   "outputs": [],
   "source": [
    "df = pd.read_csv('relArtist_parse.csv')"
   ]
  },
  {
   "cell_type": "code",
   "execution_count": 3,
   "metadata": {
    "collapsed": true
   },
   "outputs": [],
   "source": [
    "g = nx.from_pandas_dataframe(df, 'Artist', 'RelArtist')"
   ]
  },
  {
   "cell_type": "code",
   "execution_count": 4,
   "metadata": {
    "collapsed": true
   },
   "outputs": [],
   "source": [
    "h = list(nx.connected_component_subgraphs(g))"
   ]
  },
  {
   "cell_type": "code",
   "execution_count": 5,
   "metadata": {
    "collapsed": true
   },
   "outputs": [],
   "source": [
    "total = len(h[0])\n",
    "allArtists = h[0].nodes()"
   ]
  },
  {
   "cell_type": "code",
   "execution_count": 8,
   "metadata": {
    "collapsed": false
   },
   "outputs": [],
   "source": [
    "gr = []\n",
    "for i in allArtists:\n",
    "    gr.append( nx.shortest_path_length(h[0],'Bruce Springsteen', i) )"
   ]
  },
  {
   "cell_type": "code",
   "execution_count": 11,
   "metadata": {
    "collapsed": false
   },
   "outputs": [],
   "source": [
    "import matplotlib.pyplot as plt"
   ]
  },
  {
   "cell_type": "code",
   "execution_count": 64,
   "metadata": {
    "collapsed": false
   },
   "outputs": [
    {
     "data": {
      "image/png": "[encoded data removed]",
      "text/plain": [
       "<matplotlib.figure.Figure at 0xa3af8fcc>"
      ]
     },
     "metadata": {},
     "output_type": "display_data"
    }
   ],
   "source": [
    "tempdf = pd.DataFrame(gr)\n",
    "fig = ppl.hist(tempdf[0],bins=15)\n",
    "plt.xlabel(\"shortest path length\")\n",
    "plt.ylabel(\"# of artists\")\n",
    "plt.savefig('springsteen.eps')"
   ]
  },
  {
   "cell_type": "code",
   "execution_count": 54,
   "metadata": {
    "collapsed": false
   },
   "outputs": [
    {
     "name": "stdout",
     "output_type": "stream",
     "text": [
      "Object `ppl.xlabel` not found.\n"
     ]
    }
   ],
   "source": []
  },
  {
   "cell_type": "code",
   "execution_count": 15,
   "metadata": {
    "collapsed": false
   },
   "outputs": [
    {
     "data": {
      "text/plain": [
       "10.246813710515061"
      ]
     },
     "execution_count": 15,
     "metadata": {},
     "output_type": "execute_result"
    }
   ],
   "source": [
    "1.0*sum(gr)/total"
   ]
  },
  {
   "cell_type": "code",
   "execution_count": 16,
   "metadata": {
    "collapsed": true
   },
   "outputs": [],
   "source": [
    "means = []"
   ]
  },
  {
   "cell_type": "code",
   "execution_count": 84,
   "metadata": {
    "collapsed": false
   },
   "outputs": [],
   "source": [
    "for i in range(0,15):\n",
    "\tsum = 0\n",
    "\tsearchArtist = allArtists[ randint(0, total) ]\n",
    "\tfor j in allArtists:\n",
    "\t\tsum += nx.shortest_path_length(h[0], searchArtist, j)\n",
    "\tmeans.append( [i, 1.0*sum / total] )\n",
    "    "
   ]
  },
  {
   "cell_type": "code",
   "execution_count": 85,
   "metadata": {
    "collapsed": false
   },
   "outputs": [
    {
     "data": {
      "text/plain": [
       "[[0, 11.076800879819148],\n",
       " [1, 15.318164599498992],\n",
       " [2, 12.680430133805828],\n",
       " [3, 18.50420969023034],\n",
       " [4, 15.44775462821531],\n",
       " [5, 11.428704099712837],\n",
       " [6, 12.334392374900714],\n",
       " [7, 12.996810655587463],\n",
       " [8, 15.116869310197348],\n",
       " [9, 13.466658520193072],\n",
       " [10, 11.864458972322357],\n",
       " [11, 13.377014724751023],\n",
       " [12, 12.756363414187083],\n",
       " [13, 15.205071179813038],\n",
       " [14, 12.934013563878537],\n",
       " [0, 11.564929431172482],\n",
       " [1, 12.978762143337203],\n",
       " [2, 16.017596382965724],\n",
       " [3, 13.207478462760433],\n",
       " [4, 15.831991201808517],\n",
       " [5, 11.744852446997006],\n",
       " [6, 15.870666585201931],\n",
       " [7, 10.618720596321868],\n",
       " [8, 11.072365124946538],\n",
       " [9, 12.438418769475163],\n",
       " [10, 11.439946233274272],\n",
       " [11, 12.678413881591005],\n",
       " [12, 12.353259607747296],\n",
       " [13, 13.925899676177675],\n",
       " [14, 12.377307997800452],\n",
       " [0, 15.56607808394941],\n",
       " [1, 12.67301276959736],\n",
       " [2, 14.181499358465205],\n",
       " [3, 14.01138877008615],\n",
       " [4, 10.546453229058471],\n",
       " [5, 14.832651066169731],\n",
       " [6, 12.356387853607869],\n",
       " [7, 14.04335553247388],\n",
       " [8, 13.044186472780595],\n",
       " [9, 12.681212195270971],\n",
       " [10, 11.372065742041913],\n",
       " [11, 11.102340074540233],\n",
       " [12, 13.515268528135882],\n",
       " [13, 14.183136799657849],\n",
       " [14, 11.332376122685892],\n",
       " [0, 13.663249220993462],\n",
       " [1, 14.168729761104661],\n",
       " [2, 10.879501435815971],\n",
       " [3, 13.51397323883424],\n",
       " [4, 16.110172908902058],\n",
       " [5, 12.697000061098551],\n",
       " [6, 13.558037514510906],\n",
       " [7, 13.621201197531619],\n",
       " [8, 14.971259241155984],\n",
       " [9, 23.580692857579276],\n",
       " [10, 12.573568766420236],\n",
       " [11, 13.270813221726645],\n",
       " [12, 21.369988391275125],\n",
       " [13, 14.083460621983258],\n",
       " [14, 12.585140832162278]]"
      ]
     },
     "execution_count": 85,
     "metadata": {},
     "output_type": "execute_result"
    }
   ],
   "source": [
    "means"
   ]
  },
  {
   "cell_type": "code",
   "execution_count": 86,
   "metadata": {
    "collapsed": false
   },
   "outputs": [],
   "source": [
    "mdf = pd.DataFrame(means)"
   ]
  },
  {
   "cell_type": "code",
   "execution_count": 87,
   "metadata": {
    "collapsed": false
   },
   "outputs": [
    {
     "data": {
      "text/plain": [
       "13.578608785971772"
      ]
     },
     "execution_count": 87,
     "metadata": {},
     "output_type": "execute_result"
    }
   ],
   "source": [
    "mdf[1].mean()"
   ]
  },
  {
   "cell_type": "code",
   "execution_count": 88,
   "metadata": {
    "collapsed": false
   },
   "outputs": [
    {
     "data": {
      "image/png": "[encoded data removed]",
      "text/plain": [
       "<matplotlib.figure.Figure at 0xa298af8c>"
      ]
     },
     "metadata": {},
     "output_type": "display_data"
    }
   ],
   "source": [
    "fig = ppl.hist(mdf[1],bins=10)\n",
    "plt.xlabel(\"average shortest path length\")\n",
    "plt.ylabel(\"# of artists\")\n",
    "plt.savefig('avgShortestPath.eps')"
   ]
  },
  {
   "cell_type": "code",
   "execution_count": null,
   "metadata": {
    "collapsed": true
   },
   "outputs": [],
   "source": []
  }
 ],
 "metadata": {
  "kernelspec": {
   "display_name": "Python 2",
   "language": "python",
   "name": "python2"
  },
  "language_info": {
   "codemirror_mode": {
    "name": "ipython",
    "version": 2
   },
   "file_extension": ".py",
   "mimetype": "text/x-python",
   "name": "python",
   "nbconvert_exporter": "python",
   "pygments_lexer": "ipython2",
   "version": "2.7.10"
  }
 },
 "nbformat": 4,
 "nbformat_minor": 0
}
