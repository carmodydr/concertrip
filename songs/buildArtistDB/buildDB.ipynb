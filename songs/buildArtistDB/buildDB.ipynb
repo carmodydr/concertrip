{
 "cells": [
  {
   "cell_type": "markdown",
   "metadata": {},
   "source": [
    "# Create a database of related artists from relArtist.csv"
   ]
  },
  {
   "cell_type": "code",
   "execution_count": 2,
   "metadata": {
    "collapsed": true
   },
   "outputs": [],
   "source": [
    "import MySQLdb as mdb\n",
    "import json\n",
    "import pandas as pd\n",
    "from pprint import pprint\n",
    "from sqlalchemy import create_engine\n",
    "from sqlalchemy_utils import database_exists, create_database"
   ]
  },
  {
   "cell_type": "code",
   "execution_count": 7,
   "metadata": {
    "collapsed": true
   },
   "outputs": [],
   "source": [
    "dbname = 'music'\n",
    "username = 'dan'\n",
    "pswd = 'insight'"
   ]
  },
  {
   "cell_type": "code",
   "execution_count": 8,
   "metadata": {
    "collapsed": false
   },
   "outputs": [],
   "source": [
    "engine = create_engine('mysql://%s:%s@localhost/%s'%(username,pswd,dbname))\n",
    "#print engine.url"
   ]
  },
  {
   "cell_type": "code",
   "execution_count": 9,
   "metadata": {
    "collapsed": true
   },
   "outputs": [],
   "source": [
    "if not database_exists(engine.url):\n",
    "    create_database(engine.url)\n",
    "#print(database_exists(engine.url))"
   ]
  },
  {
   "cell_type": "markdown",
   "metadata": {},
   "source": [
    "### Make sure relArtist.csv doesn't have any '+' for ' ', also remove additional ','"
   ]
  },
  {
   "cell_type": "markdown",
   "metadata": {},
   "source": [
    "sed 's/+/ /g' relArtist.csv > relArtist_parse.csv\n",
    "sed 's/,//2' relArtist.csv > relArtist_parse.csv\n",
    "sed 's/,//2' relArtist.csv > relArtist_parse.csv"
   ]
  },
  {
   "cell_type": "code",
   "execution_count": 12,
   "metadata": {
    "collapsed": false
   },
   "outputs": [],
   "source": [
    "artist_df = pd.read_csv('relArtist_parse.csv')"
   ]
  },
  {
   "cell_type": "code",
   "execution_count": 15,
   "metadata": {
    "collapsed": true
   },
   "outputs": [],
   "source": [
    "con = None\n",
    "con = mdb.connect('localhost', username, pswd, dbname)"
   ]
  },
  {
   "cell_type": "code",
   "execution_count": 16,
   "metadata": {
    "collapsed": false,
    "scrolled": true
   },
   "outputs": [
    {
     "name": "stderr",
     "output_type": "stream",
     "text": [
      "/home/dcarmody/anaconda/lib/python2.7/site-packages/pandas/core/generic.py:1003: FutureWarning: The 'mysql' flavor with DBAPI connection is deprecated and will be removed in future versions. MySQL will be further supported with SQLAlchemy connectables.\n",
      "  dtype=dtype)\n",
      "/home/dcarmody/anaconda/lib/python2.7/site-packages/pandas/io/sql.py:1420: Warning: Data truncated for column 'RelArtist' at row 1847\n",
      "  conn.executemany(self.insert_statement(), data_list)\n",
      "/home/dcarmody/anaconda/lib/python2.7/site-packages/pandas/io/sql.py:1420: Warning: Data truncated for column 'RelArtist' at row 1854\n",
      "  conn.executemany(self.insert_statement(), data_list)\n",
      "/home/dcarmody/anaconda/lib/python2.7/site-packages/pandas/io/sql.py:1420: Warning: Data truncated for column 'RelArtist' at row 10215\n",
      "  conn.executemany(self.insert_statement(), data_list)\n",
      "/home/dcarmody/anaconda/lib/python2.7/site-packages/pandas/io/sql.py:1420: Warning: Data truncated for column 'RelArtist' at row 10220\n",
      "  conn.executemany(self.insert_statement(), data_list)\n",
      "/home/dcarmody/anaconda/lib/python2.7/site-packages/pandas/io/sql.py:1420: Warning: Data truncated for column 'RelArtist' at row 23370\n",
      "  conn.executemany(self.insert_statement(), data_list)\n",
      "/home/dcarmody/anaconda/lib/python2.7/site-packages/pandas/io/sql.py:1420: Warning: Data truncated for column 'RelArtist' at row 23377\n",
      "  conn.executemany(self.insert_statement(), data_list)\n",
      "/home/dcarmody/anaconda/lib/python2.7/site-packages/pandas/io/sql.py:1420: Warning: Data truncated for column 'RelArtist' at row 26038\n",
      "  conn.executemany(self.insert_statement(), data_list)\n",
      "/home/dcarmody/anaconda/lib/python2.7/site-packages/pandas/io/sql.py:1420: Warning: Data truncated for column 'RelArtist' at row 26045\n",
      "  conn.executemany(self.insert_statement(), data_list)\n",
      "/home/dcarmody/anaconda/lib/python2.7/site-packages/pandas/io/sql.py:1420: Warning: Data truncated for column 'RelArtist' at row 27002\n",
      "  conn.executemany(self.insert_statement(), data_list)\n",
      "/home/dcarmody/anaconda/lib/python2.7/site-packages/pandas/io/sql.py:1420: Warning: Data truncated for column 'RelArtist' at row 27009\n",
      "  conn.executemany(self.insert_statement(), data_list)\n",
      "/home/dcarmody/anaconda/lib/python2.7/site-packages/pandas/io/sql.py:1420: Warning: Data truncated for column 'RelArtist' at row 29011\n",
      "  conn.executemany(self.insert_statement(), data_list)\n",
      "/home/dcarmody/anaconda/lib/python2.7/site-packages/pandas/io/sql.py:1420: Warning: Data truncated for column 'RelArtist' at row 37401\n",
      "  conn.executemany(self.insert_statement(), data_list)\n",
      "/home/dcarmody/anaconda/lib/python2.7/site-packages/pandas/io/sql.py:1420: Warning: Data truncated for column 'RelArtist' at row 37406\n",
      "  conn.executemany(self.insert_statement(), data_list)\n",
      "/home/dcarmody/anaconda/lib/python2.7/site-packages/pandas/io/sql.py:1420: Warning: Data truncated for column 'RelArtist' at row 38638\n",
      "  conn.executemany(self.insert_statement(), data_list)\n",
      "/home/dcarmody/anaconda/lib/python2.7/site-packages/pandas/io/sql.py:1420: Warning: Data truncated for column 'RelArtist' at row 38643\n",
      "  conn.executemany(self.insert_statement(), data_list)\n",
      "/home/dcarmody/anaconda/lib/python2.7/site-packages/pandas/io/sql.py:1420: Warning: Data truncated for column 'RelArtist' at row 41395\n",
      "  conn.executemany(self.insert_statement(), data_list)\n",
      "/home/dcarmody/anaconda/lib/python2.7/site-packages/pandas/io/sql.py:1420: Warning: Data truncated for column 'RelArtist' at row 41402\n",
      "  conn.executemany(self.insert_statement(), data_list)\n"
     ]
    }
   ],
   "source": [
    "artist_df.to_sql('relArtist',con,flavor='mysql')"
   ]
  },
  {
   "cell_type": "code",
   "execution_count": null,
   "metadata": {
    "collapsed": true
   },
   "outputs": [],
   "source": []
  }
 ],
 "metadata": {
  "kernelspec": {
   "display_name": "Python 2",
   "language": "python",
   "name": "python2"
  },
  "language_info": {
   "codemirror_mode": {
    "name": "ipython",
    "version": 2
   },
   "file_extension": ".py",
   "mimetype": "text/x-python",
   "name": "python",
   "nbconvert_exporter": "python",
   "pygments_lexer": "ipython2",
   "version": "2.7.10"
  }
 },
 "nbformat": 4,
 "nbformat_minor": 0
}
