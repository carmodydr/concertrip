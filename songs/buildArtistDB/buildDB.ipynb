{
 "cells": [
  {
   "cell_type": "markdown",
   "metadata": {},
   "source": [
    "# Create a database of related artists from relArtist.csv"
   ]
  },
  {
   "cell_type": "code",
   "execution_count": 1,
   "metadata": {
    "collapsed": true
   },
   "outputs": [],
   "source": [
    "import MySQLdb as mdb\n",
    "import json\n",
    "import pandas as pd\n",
    "from pprint import pprint\n",
    "from sqlalchemy import create_engine\n",
    "from sqlalchemy_utils import database_exists, create_database"
   ]
  },
  {
   "cell_type": "code",
   "execution_count": 2,
   "metadata": {
    "collapsed": true
   },
   "outputs": [],
   "source": [
    "dbname = 'music'\n",
    "username = 'dan'\n",
    "pswd = 'insight'"
   ]
  },
  {
   "cell_type": "code",
   "execution_count": 3,
   "metadata": {
    "collapsed": false
   },
   "outputs": [],
   "source": [
    "engine = create_engine('mysql://%s:%s@localhost/%s'%(username,pswd,dbname))\n",
    "#print engine.url"
   ]
  },
  {
   "cell_type": "code",
   "execution_count": 4,
   "metadata": {
    "collapsed": true
   },
   "outputs": [],
   "source": [
    "if not database_exists(engine.url):\n",
    "    create_database(engine.url)\n",
    "#print(database_exists(engine.url))"
   ]
  },
  {
   "cell_type": "markdown",
   "metadata": {},
   "source": [
    "### Make sure relArtist.csv doesn't have any '+' for ' ', also remove additional ','"
   ]
  },
  {
   "cell_type": "markdown",
   "metadata": {},
   "source": [
    "sed 's/+/ /g' relArtist.csv > relArtist_parse.csv\n",
    "sed 's/,//2' relArtist.csv > relArtist_parse.csv\n",
    "sed 's/,//2' relArtist.csv > relArtist_parse.csv"
   ]
  },
  {
   "cell_type": "code",
   "execution_count": 5,
   "metadata": {
    "collapsed": false
   },
   "outputs": [],
   "source": [
    "artist_df = pd.read_csv('relArtist_parse.csv')"
   ]
  },
  {
   "cell_type": "code",
   "execution_count": 6,
   "metadata": {
    "collapsed": true
   },
   "outputs": [],
   "source": [
    "con = None\n",
    "con = mdb.connect('localhost', username, pswd, dbname)"
   ]
  },
  {
   "cell_type": "code",
   "execution_count": 7,
   "metadata": {
    "collapsed": false,
    "scrolled": false
   },
   "outputs": [
    {
     "name": "stderr",
     "output_type": "stream",
     "text": [
      "/home/dcarmody/anaconda2/lib/python2.7/site-packages/pandas/core/generic.py:1160: FutureWarning: The 'mysql' flavor with DBAPI connection is deprecated and will be removed in future versions. MySQL will be further supported with SQLAlchemy connectables.\n",
      "  chunksize=chunksize, dtype=dtype)\n",
      "/home/dcarmody/anaconda2/lib/python2.7/site-packages/pandas/io/sql.py:1441: Warning: Data truncated for column 'RelArtist' at row 3041\n",
      "  conn.executemany(self.insert_statement(), data_list)\n",
      "/home/dcarmody/anaconda2/lib/python2.7/site-packages/pandas/io/sql.py:1441: Warning: Data truncated for column 'RelArtist' at row 3042\n",
      "  conn.executemany(self.insert_statement(), data_list)\n",
      "/home/dcarmody/anaconda2/lib/python2.7/site-packages/pandas/io/sql.py:1441: Warning: Data truncated for column 'RelArtist' at row 3043\n",
      "  conn.executemany(self.insert_statement(), data_list)\n",
      "/home/dcarmody/anaconda2/lib/python2.7/site-packages/pandas/io/sql.py:1441: Warning: Data truncated for column 'RelArtist' at row 3046\n",
      "  conn.executemany(self.insert_statement(), data_list)\n",
      "/home/dcarmody/anaconda2/lib/python2.7/site-packages/pandas/io/sql.py:1441: Warning: Data truncated for column 'RelArtist' at row 3047\n",
      "  conn.executemany(self.insert_statement(), data_list)\n",
      "/home/dcarmody/anaconda2/lib/python2.7/site-packages/pandas/io/sql.py:1441: Warning: Data truncated for column 'RelArtist' at row 3048\n",
      "  conn.executemany(self.insert_statement(), data_list)\n",
      "/home/dcarmody/anaconda2/lib/python2.7/site-packages/pandas/io/sql.py:1441: Warning: Data truncated for column 'RelArtist' at row 3051\n",
      "  conn.executemany(self.insert_statement(), data_list)\n",
      "/home/dcarmody/anaconda2/lib/python2.7/site-packages/pandas/io/sql.py:1441: Warning: Data truncated for column 'RelArtist' at row 3052\n",
      "  conn.executemany(self.insert_statement(), data_list)\n",
      "/home/dcarmody/anaconda2/lib/python2.7/site-packages/pandas/io/sql.py:1441: Warning: Data truncated for column 'RelArtist' at row 3053\n",
      "  conn.executemany(self.insert_statement(), data_list)\n",
      "/home/dcarmody/anaconda2/lib/python2.7/site-packages/pandas/io/sql.py:1441: Warning: Data truncated for column 'RelArtist' at row 4401\n",
      "  conn.executemany(self.insert_statement(), data_list)\n",
      "/home/dcarmody/anaconda2/lib/python2.7/site-packages/pandas/io/sql.py:1441: Warning: Data truncated for column 'RelArtist' at row 6346\n",
      "  conn.executemany(self.insert_statement(), data_list)\n",
      "/home/dcarmody/anaconda2/lib/python2.7/site-packages/pandas/io/sql.py:1441: Warning: Data truncated for column 'RelArtist' at row 6617\n",
      "  conn.executemany(self.insert_statement(), data_list)\n",
      "/home/dcarmody/anaconda2/lib/python2.7/site-packages/pandas/io/sql.py:1441: Warning: Data truncated for column 'RelArtist' at row 8454\n",
      "  conn.executemany(self.insert_statement(), data_list)\n",
      "/home/dcarmody/anaconda2/lib/python2.7/site-packages/pandas/io/sql.py:1441: Warning: Data truncated for column 'RelArtist' at row 8971\n",
      "  conn.executemany(self.insert_statement(), data_list)\n",
      "/home/dcarmody/anaconda2/lib/python2.7/site-packages/pandas/io/sql.py:1441: Warning: Data truncated for column 'RelArtist' at row 13956\n",
      "  conn.executemany(self.insert_statement(), data_list)\n",
      "/home/dcarmody/anaconda2/lib/python2.7/site-packages/pandas/io/sql.py:1441: Warning: Data truncated for column 'RelArtist' at row 15350\n",
      "  conn.executemany(self.insert_statement(), data_list)\n",
      "/home/dcarmody/anaconda2/lib/python2.7/site-packages/pandas/io/sql.py:1441: Warning: Data truncated for column 'RelArtist' at row 16101\n",
      "  conn.executemany(self.insert_statement(), data_list)\n",
      "/home/dcarmody/anaconda2/lib/python2.7/site-packages/pandas/io/sql.py:1441: Warning: Data truncated for column 'RelArtist' at row 16397\n",
      "  conn.executemany(self.insert_statement(), data_list)\n",
      "/home/dcarmody/anaconda2/lib/python2.7/site-packages/pandas/io/sql.py:1441: Warning: Data truncated for column 'RelArtist' at row 21210\n",
      "  conn.executemany(self.insert_statement(), data_list)\n",
      "/home/dcarmody/anaconda2/lib/python2.7/site-packages/pandas/io/sql.py:1441: Warning: Data truncated for column 'RelArtist' at row 22026\n",
      "  conn.executemany(self.insert_statement(), data_list)\n",
      "/home/dcarmody/anaconda2/lib/python2.7/site-packages/pandas/io/sql.py:1441: Warning: Data truncated for column 'RelArtist' at row 24914\n",
      "  conn.executemany(self.insert_statement(), data_list)\n",
      "/home/dcarmody/anaconda2/lib/python2.7/site-packages/pandas/io/sql.py:1441: Warning: Data truncated for column 'RelArtist' at row 26195\n",
      "  conn.executemany(self.insert_statement(), data_list)\n",
      "/home/dcarmody/anaconda2/lib/python2.7/site-packages/pandas/io/sql.py:1441: Warning: Data truncated for column 'RelArtist' at row 26355\n",
      "  conn.executemany(self.insert_statement(), data_list)\n",
      "/home/dcarmody/anaconda2/lib/python2.7/site-packages/pandas/io/sql.py:1441: Warning: Data truncated for column 'RelArtist' at row 29817\n",
      "  conn.executemany(self.insert_statement(), data_list)\n",
      "/home/dcarmody/anaconda2/lib/python2.7/site-packages/pandas/io/sql.py:1441: Warning: Data truncated for column 'RelArtist' at row 33711\n",
      "  conn.executemany(self.insert_statement(), data_list)\n",
      "/home/dcarmody/anaconda2/lib/python2.7/site-packages/pandas/io/sql.py:1441: Warning: Data truncated for column 'RelArtist' at row 36742\n",
      "  conn.executemany(self.insert_statement(), data_list)\n",
      "/home/dcarmody/anaconda2/lib/python2.7/site-packages/pandas/io/sql.py:1441: Warning: Data truncated for column 'RelArtist' at row 36950\n",
      "  conn.executemany(self.insert_statement(), data_list)\n",
      "/home/dcarmody/anaconda2/lib/python2.7/site-packages/pandas/io/sql.py:1441: Warning: Data truncated for column 'RelArtist' at row 37090\n",
      "  conn.executemany(self.insert_statement(), data_list)\n",
      "/home/dcarmody/anaconda2/lib/python2.7/site-packages/pandas/io/sql.py:1441: Warning: Data truncated for column 'RelArtist' at row 37275\n",
      "  conn.executemany(self.insert_statement(), data_list)\n",
      "/home/dcarmody/anaconda2/lib/python2.7/site-packages/pandas/io/sql.py:1441: Warning: Data truncated for column 'RelArtist' at row 39953\n",
      "  conn.executemany(self.insert_statement(), data_list)\n",
      "/home/dcarmody/anaconda2/lib/python2.7/site-packages/pandas/io/sql.py:1441: Warning: Data truncated for column 'RelArtist' at row 40978\n",
      "  conn.executemany(self.insert_statement(), data_list)\n",
      "/home/dcarmody/anaconda2/lib/python2.7/site-packages/pandas/io/sql.py:1441: Warning: Data truncated for column 'RelArtist' at row 42547\n",
      "  conn.executemany(self.insert_statement(), data_list)\n",
      "/home/dcarmody/anaconda2/lib/python2.7/site-packages/pandas/io/sql.py:1441: Warning: Data truncated for column 'RelArtist' at row 44304\n",
      "  conn.executemany(self.insert_statement(), data_list)\n",
      "/home/dcarmody/anaconda2/lib/python2.7/site-packages/pandas/io/sql.py:1441: Warning: Data truncated for column 'RelArtist' at row 44799\n",
      "  conn.executemany(self.insert_statement(), data_list)\n",
      "/home/dcarmody/anaconda2/lib/python2.7/site-packages/pandas/io/sql.py:1441: Warning: Data truncated for column 'RelArtist' at row 44800\n",
      "  conn.executemany(self.insert_statement(), data_list)\n",
      "/home/dcarmody/anaconda2/lib/python2.7/site-packages/pandas/io/sql.py:1441: Warning: Data truncated for column 'RelArtist' at row 44801\n",
      "  conn.executemany(self.insert_statement(), data_list)\n",
      "/home/dcarmody/anaconda2/lib/python2.7/site-packages/pandas/io/sql.py:1441: Warning: Data truncated for column 'RelArtist' at row 45729\n",
      "  conn.executemany(self.insert_statement(), data_list)\n",
      "/home/dcarmody/anaconda2/lib/python2.7/site-packages/pandas/io/sql.py:1441: Warning: Data truncated for column 'RelArtist' at row 46671\n",
      "  conn.executemany(self.insert_statement(), data_list)\n",
      "/home/dcarmody/anaconda2/lib/python2.7/site-packages/pandas/io/sql.py:1441: Warning: Data truncated for column 'RelArtist' at row 46676\n",
      "  conn.executemany(self.insert_statement(), data_list)\n",
      "/home/dcarmody/anaconda2/lib/python2.7/site-packages/pandas/io/sql.py:1441: Warning: Data truncated for column 'RelArtist' at row 48762\n",
      "  conn.executemany(self.insert_statement(), data_list)\n",
      "/home/dcarmody/anaconda2/lib/python2.7/site-packages/pandas/io/sql.py:1441: Warning: Data truncated for column 'RelArtist' at row 49519\n",
      "  conn.executemany(self.insert_statement(), data_list)\n",
      "/home/dcarmody/anaconda2/lib/python2.7/site-packages/pandas/io/sql.py:1441: Warning: Data truncated for column 'RelArtist' at row 54621\n",
      "  conn.executemany(self.insert_statement(), data_list)\n",
      "/home/dcarmody/anaconda2/lib/python2.7/site-packages/pandas/io/sql.py:1441: Warning: Data truncated for column 'RelArtist' at row 56276\n",
      "  conn.executemany(self.insert_statement(), data_list)\n",
      "/home/dcarmody/anaconda2/lib/python2.7/site-packages/pandas/io/sql.py:1441: Warning: Data truncated for column 'RelArtist' at row 57569\n",
      "  conn.executemany(self.insert_statement(), data_list)\n",
      "/home/dcarmody/anaconda2/lib/python2.7/site-packages/pandas/io/sql.py:1441: Warning: Data truncated for column 'RelArtist' at row 58879\n",
      "  conn.executemany(self.insert_statement(), data_list)\n",
      "/home/dcarmody/anaconda2/lib/python2.7/site-packages/pandas/io/sql.py:1441: Warning: Data truncated for column 'RelArtist' at row 59279\n",
      "  conn.executemany(self.insert_statement(), data_list)\n",
      "/home/dcarmody/anaconda2/lib/python2.7/site-packages/pandas/io/sql.py:1441: Warning: Data truncated for column 'RelArtist' at row 59441\n",
      "  conn.executemany(self.insert_statement(), data_list)\n",
      "/home/dcarmody/anaconda2/lib/python2.7/site-packages/pandas/io/sql.py:1441: Warning: Data truncated for column 'RelArtist' at row 60267\n",
      "  conn.executemany(self.insert_statement(), data_list)\n",
      "/home/dcarmody/anaconda2/lib/python2.7/site-packages/pandas/io/sql.py:1441: Warning: Data truncated for column 'RelArtist' at row 60936\n",
      "  conn.executemany(self.insert_statement(), data_list)\n",
      "/home/dcarmody/anaconda2/lib/python2.7/site-packages/pandas/io/sql.py:1441: Warning: Data truncated for column 'RelArtist' at row 63769\n",
      "  conn.executemany(self.insert_statement(), data_list)\n",
      "/home/dcarmody/anaconda2/lib/python2.7/site-packages/pandas/io/sql.py:1441: Warning: Data truncated for column 'RelArtist' at row 66967\n",
      "  conn.executemany(self.insert_statement(), data_list)\n",
      "/home/dcarmody/anaconda2/lib/python2.7/site-packages/pandas/io/sql.py:1441: Warning: Data truncated for column 'RelArtist' at row 67741\n",
      "  conn.executemany(self.insert_statement(), data_list)\n",
      "/home/dcarmody/anaconda2/lib/python2.7/site-packages/pandas/io/sql.py:1441: Warning: Data truncated for column 'RelArtist' at row 70056\n",
      "  conn.executemany(self.insert_statement(), data_list)\n",
      "/home/dcarmody/anaconda2/lib/python2.7/site-packages/pandas/io/sql.py:1441: Warning: Data truncated for column 'RelArtist' at row 75247\n",
      "  conn.executemany(self.insert_statement(), data_list)\n",
      "/home/dcarmody/anaconda2/lib/python2.7/site-packages/pandas/io/sql.py:1441: Warning: Data truncated for column 'RelArtist' at row 76532\n",
      "  conn.executemany(self.insert_statement(), data_list)\n",
      "/home/dcarmody/anaconda2/lib/python2.7/site-packages/pandas/io/sql.py:1441: Warning: Data truncated for column 'RelArtist' at row 77915\n",
      "  conn.executemany(self.insert_statement(), data_list)\n",
      "/home/dcarmody/anaconda2/lib/python2.7/site-packages/pandas/io/sql.py:1441: Warning: Data truncated for column 'RelArtist' at row 79290\n",
      "  conn.executemany(self.insert_statement(), data_list)\n",
      "/home/dcarmody/anaconda2/lib/python2.7/site-packages/pandas/io/sql.py:1441: Warning: Data truncated for column 'RelArtist' at row 79438\n",
      "  conn.executemany(self.insert_statement(), data_list)\n",
      "/home/dcarmody/anaconda2/lib/python2.7/site-packages/pandas/io/sql.py:1441: Warning: Data truncated for column 'RelArtist' at row 80882\n",
      "  conn.executemany(self.insert_statement(), data_list)\n",
      "/home/dcarmody/anaconda2/lib/python2.7/site-packages/pandas/io/sql.py:1441: Warning: Data truncated for column 'RelArtist' at row 82466\n",
      "  conn.executemany(self.insert_statement(), data_list)\n",
      "/home/dcarmody/anaconda2/lib/python2.7/site-packages/pandas/io/sql.py:1441: Warning: Data truncated for column 'RelArtist' at row 82467\n",
      "  conn.executemany(self.insert_statement(), data_list)\n",
      "/home/dcarmody/anaconda2/lib/python2.7/site-packages/pandas/io/sql.py:1441: Warning: Data truncated for column 'RelArtist' at row 83686\n",
      "  conn.executemany(self.insert_statement(), data_list)\n",
      "/home/dcarmody/anaconda2/lib/python2.7/site-packages/pandas/io/sql.py:1441: Warning: Data truncated for column 'RelArtist' at row 84256\n",
      "  conn.executemany(self.insert_statement(), data_list)\n",
      "/home/dcarmody/anaconda2/lib/python2.7/site-packages/pandas/io/sql.py:1441: Warning: Data truncated for column 'RelArtist' at row 85103\n",
      "  conn.executemany(self.insert_statement(), data_list)\n"
     ]
    }
   ],
   "source": [
    "artist_df.to_sql('relArtistFull',con,flavor='mysql')"
   ]
  },
  {
   "cell_type": "code",
   "execution_count": null,
   "metadata": {
    "collapsed": true
   },
   "outputs": [],
   "source": []
  }
 ],
 "metadata": {
  "kernelspec": {
   "display_name": "Python 2",
   "language": "python",
   "name": "python2"
  },
  "language_info": {
   "codemirror_mode": {
    "name": "ipython",
    "version": 2
   },
   "file_extension": ".py",
   "mimetype": "text/x-python",
   "name": "python",
   "nbconvert_exporter": "python",
   "pygments_lexer": "ipython2",
   "version": "2.7.11"
  }
 },
 "nbformat": 4,
 "nbformat_minor": 0
}
