{
 "cells": [
  {
   "cell_type": "markdown",
   "metadata": {},
   "source": [
    "# Given a pair of artists, return rank"
   ]
  },
  {
   "cell_type": "markdown",
   "metadata": {},
   "source": [
    "sed -r 's/ +/,/' File_Name"
   ]
  },
  {
   "cell_type": "code",
   "execution_count": 2,
   "metadata": {
    "collapsed": true
   },
   "outputs": [],
   "source": [
    "import MySQLdb as mdb\n",
    "import json\n",
    "import pandas as pd\n",
    "from pprint import pprint\n",
    "from sqlalchemy import create_engine\n",
    "from sqlalchemy_utils import database_exists, create_database"
   ]
  },
  {
   "cell_type": "code",
   "execution_count": 3,
   "metadata": {
    "collapsed": true
   },
   "outputs": [],
   "source": [
    "import pandas as pd\n",
    "import networkx as nx"
   ]
  },
  {
   "cell_type": "code",
   "execution_count": 4,
   "metadata": {
    "collapsed": true
   },
   "outputs": [],
   "source": [
    "dbname = 'music'\n",
    "username = 'dan'\n",
    "pswd = 'insight'"
   ]
  },
  {
   "cell_type": "code",
   "execution_count": 5,
   "metadata": {
    "collapsed": true
   },
   "outputs": [],
   "source": [
    "engine = create_engine('mysql://%s:%s@localhost/%s'%(username,pswd,dbname))"
   ]
  },
  {
   "cell_type": "code",
   "execution_count": 6,
   "metadata": {
    "collapsed": true
   },
   "outputs": [],
   "source": [
    "con = None\n",
    "con = mdb.connect('localhost', username, pswd, dbname)"
   ]
  },
  {
   "cell_type": "code",
   "execution_count": null,
   "metadata": {
    "collapsed": true
   },
   "outputs": [],
   "source": [
    "df = pd.read_csv('artist',sep='<sep>')\n",
    "tagdf = pd.read_csv('tags.txt')\n",
    "mergedf = pd.merge(df, tagdf, on='Tag')\n",
    "\n",
    "g = nx.from_pandas_dataframe(df, 'Artist', 'Tag', weight='CombinedCount')\n",
    "\n",
    "nx.shortest_path_length(g, 'Metallica', 'Missy Elliot')"
   ]
  },
  {
   "cell_type": "code",
   "execution_count": 15,
   "metadata": {
    "collapsed": false
   },
   "outputs": [],
   "source": [
    "simArtists = pd.read_sql_table('relArtist',con='mysql://%s:%s@localhost/%s'%(username,pswd,dbname))"
   ]
  },
  {
   "cell_type": "code",
   "execution_count": 16,
   "metadata": {
    "collapsed": false
   },
   "outputs": [
    {
     "data": {
      "text/html": [
       "<div>\n",
       "<table border=\"1\" class=\"dataframe\">\n",
       "  <thead>\n",
       "    <tr style=\"text-align: right;\">\n",
       "      <th></th>\n",
       "      <th>index</th>\n",
       "      <th>Artist</th>\n",
       "      <th>RelArtist</th>\n",
       "    </tr>\n",
       "  </thead>\n",
       "  <tbody>\n",
       "    <tr>\n",
       "      <th>0</th>\n",
       "      <td>0</td>\n",
       "      <td>Closterkeller</td>\n",
       "      <td>Don Omar</td>\n",
       "    </tr>\n",
       "    <tr>\n",
       "      <th>1</th>\n",
       "      <td>1</td>\n",
       "      <td>Closterkeller</td>\n",
       "      <td>Wisin &amp; Yandel</td>\n",
       "    </tr>\n",
       "    <tr>\n",
       "      <th>2</th>\n",
       "      <td>2</td>\n",
       "      <td>Closterkeller</td>\n",
       "      <td>J Alvarez</td>\n",
       "    </tr>\n",
       "    <tr>\n",
       "      <th>3</th>\n",
       "      <td>3</td>\n",
       "      <td>Closterkeller</td>\n",
       "      <td>Alexis &amp; Fido</td>\n",
       "    </tr>\n",
       "    <tr>\n",
       "      <th>4</th>\n",
       "      <td>4</td>\n",
       "      <td>Closterkeller</td>\n",
       "      <td>Yandel</td>\n",
       "    </tr>\n",
       "  </tbody>\n",
       "</table>\n",
       "</div>"
      ],
      "text/plain": [
       "   index         Artist       RelArtist\n",
       "0      0  Closterkeller        Don Omar\n",
       "1      1  Closterkeller  Wisin & Yandel\n",
       "2      2  Closterkeller       J Alvarez\n",
       "3      3  Closterkeller   Alexis & Fido\n",
       "4      4  Closterkeller          Yandel"
      ]
     },
     "execution_count": 16,
     "metadata": {},
     "output_type": "execute_result"
    }
   ],
   "source": [
    "simArtists.head()"
   ]
  },
  {
   "cell_type": "code",
   "execution_count": 17,
   "metadata": {
    "collapsed": true
   },
   "outputs": [],
   "source": [
    "g = nx.from_pandas_dataframe(simArtists,'Artist','RelArtist')"
   ]
  },
  {
   "cell_type": "code",
   "execution_count": 19,
   "metadata": {
    "collapsed": false
   },
   "outputs": [],
   "source": [
    "def artistPath( artist1, artist2):\n",
    "    print nx.shortest_path_length( g, artist1, artist2)"
   ]
  },
  {
   "cell_type": "code",
   "execution_count": 21,
   "metadata": {
    "collapsed": false
   },
   "outputs": [
    {
     "name": "stdout",
     "output_type": "stream",
     "text": [
      "10\n"
     ]
    }
   ],
   "source": [
    "artistPath( 'Radiohead', 'Metallica')"
   ]
  },
  {
   "cell_type": "markdown",
   "metadata": {},
   "source": [
    "# Old stuff below"
   ]
  },
  {
   "cell_type": "markdown",
   "metadata": {
    "collapsed": true
   },
   "source": [
    "tagdf = pd.read_csv('tags.txt')\n",
    "mergedf = pd.merge(df, tagdf, on='Tag')\n",
    "graphdf = mergedf\n",
    "graphdf['InvCount'] = 1.0/graphdf.Count\n",
    "graphdf.head(10)\n",
    "G = nx.from_pandas_dataframe(graphdf)\n",
    "G = nx.from_pandas_dataframe(graphdf, 'Artist', 'Tag', edge_attr='Count')\n",
    "\n",
    "G['Metallica']\n",
    "graphdf['CombinedCount'] = graphdf.Count * graphdf.RawTagCount\n",
    "graphdf.head()\n",
    "graphdf['CombinedCount'] = graphdf.Count / graphdf.RawTagCount\n",
    "graphdf.head()\n",
    "G = nx.from_pandas_dataframe(graphdf, 'Artist', 'Tag', edge_attr='CombinedCount')\n",
    "\n",
    "artistdf = pd.read_csv('artists.txt')\n",
    "\n",
    "for i in artistdf.Artist[0:10]:\n",
    "    print x.shortest_path_length(G, 'Yo-Yo Ma', i, weight='CombinedCount')\n",
    "    \n",
    "for i in artistdf.Artist[0:100]:\n",
    "    print 'Yo-Yo Ma' + ',' + i + ',' + str(nx.shortest_path_length(G, 'Yo-Yo Ma', i, weight='CombinedCount'))"
   ]
  }
 ],
 "metadata": {
  "kernelspec": {
   "display_name": "Python 2",
   "language": "python",
   "name": "python2"
  },
  "language_info": {
   "codemirror_mode": {
    "name": "ipython",
    "version": 2
   },
   "file_extension": ".py",
   "mimetype": "text/x-python",
   "name": "python",
   "nbconvert_exporter": "python",
   "pygments_lexer": "ipython2",
   "version": "2.7.10"
  }
 },
 "nbformat": 4,
 "nbformat_minor": 0
}
