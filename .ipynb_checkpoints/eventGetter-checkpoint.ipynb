{
 "cells": [
  {
   "cell_type": "code",
   "execution_count": 1,
   "metadata": {
    "collapsed": true
   },
   "outputs": [],
   "source": [
    "import time \n",
    "import requests\n",
    "import operator\n",
    "import numpy as np\n",
    "import json"
   ]
  },
  {
   "cell_type": "code",
   "execution_count": null,
   "metadata": {
    "collapsed": true
   },
   "outputs": [],
   "source": [
    "url = 'http://api.bandsintown.com/events/search'\n",
    "appID = 'insightprojectDC'\n",
    "\n",
    "# Attica\n",
    "lat = 42.77\n",
    "lon = -89.480560\n",
    "\n",
    "startDate = '2016-07-06'\n",
    "endDate = '2016-07-14'\n",
    "\n",
    "#def returnEvents(lat, lon, radius=100, dateRange)\n",
    "url = 'http://api.bandsintown.com/events/search?location='+str(lat)+','+str(lon)+'&date='+startDate+','+endDate+'&format=json&app_id=' + appID\n",
    "\n",
    "response = requests.request( 'get', url)\n",
    "parsedResponse = response.json()"
   ]
  },
  {
   "cell_type": "code",
   "execution_count": 8,
   "metadata": {
    "collapsed": false
   },
   "outputs": [
    {
     "name": "stdout",
     "output_type": "stream",
     "text": [
      "Bobbleheads Sports Bar and Grill  42.6408348 -89.0304565 Loud Exhaust 2016-07-06T17:00:54\n",
      "DreamBank 43.0757497 -89.3830972 Gin 2016-07-06T17:30:00\n",
      "DreamBank 43.0757497 -89.3830972 Chocolate and Bottle Rockets 2016-07-06T17:30:00\n",
      "DreamBank 43.0757497 -89.3830972 Summer 2016-07-06T17:30:00\n",
      "American Family Dream Bank 43.0753708 -89.3819656 Beth Kille 2016-07-06T17:30:00\n"
     ]
    },
    {
     "data": {
      "text/plain": [
       "'\\nuseful quantities in the JSON:\\nurl, ticket_url\\nvenue: city, name, url, country, region, longitude, latitude, id\\non_sale_datetime, datetime\\nartists: url, mbid, name\\n'"
      ]
     },
     "execution_count": 8,
     "metadata": {},
     "output_type": "execute_result"
    }
   ],
   "source": [
    "for i in parsedResponse[0:3]:\n",
    "    for j in i['artists']:\n",
    "        print i['venue']['name'], i['venue']['latitude'], i['venue']['longitude'], j['name'], i['datetime']\n",
    "\n",
    "'''\n",
    "useful quantities in the JSON:\n",
    "url, ticket_url\n",
    "venue: city, name, url, country, region, longitude, latitude, id\n",
    "on_sale_datetime, datetime\n",
    "artists: url, mbid, name\n",
    "'''"
   ]
  },
  {
   "cell_type": "markdown",
   "metadata": {
    "collapsed": true
   },
   "source": [
    "### Calculate distances to the original point\n",
    "\n",
    "\n",
    "```\n",
    "dlon = lon2 - lon1\n",
    "dlat = lat2 - lat1\n",
    "a = (sin(dlat/2))^2 + cos(lat1) * cos(lat2) * (sin(dlon/2))^2\n",
    "c = 2 * atan2( sqrt(a), sqrt(1-a) )\n",
    "d = R * c (where R is the radius of the Earth) \n",
    "```\n",
    "\n",
    "Taken from http://andrew.hedges.name/experiments/haversine/"
   ]
  },
  {
   "cell_type": "code",
   "execution_count": 15,
   "metadata": {
    "collapsed": true
   },
   "outputs": [],
   "source": [
    "def deg2rad(deg):\n",
    "    return deg * (np.pi/180)"
   ]
  },
  {
   "cell_type": "code",
   "execution_count": 16,
   "metadata": {
    "collapsed": false
   },
   "outputs": [
    {
     "name": "stdout",
     "output_type": "stream",
     "text": [
      "-0.002254358019 0.00785578804975\n",
      "24.5354412117\n"
     ]
    }
   ],
   "source": [
    "lat1 = lat\n",
    "lon1 = lon\n",
    "\n",
    "lat2 = parsedResponse[0]['venue']['latitude']\n",
    "lon2 = parsedResponse[0]['venue']['longitude']\n",
    "\n",
    "dlat = deg2rad(lat2 - lat1)\n",
    "dlon = deg2rad(lon2 - lon1)\n",
    "\n",
    "print dlat, dlon\n",
    "\n",
    "R = 3959 # radius of the Earth in miles\n",
    "\n",
    "a = (np.sin(dlat/2))**2 + np.cos( deg2rad(lat1) ) * np.cos( deg2rad(lat2) ) * (np.sin(dlon/2))**2\n",
    "c = 2* np.arctan2( np.sqrt(a), np.sqrt(1-a) )\n",
    "d = R * c\n",
    "\n",
    "print d"
   ]
  },
  {
   "cell_type": "code",
   "execution_count": null,
   "metadata": {
    "collapsed": true
   },
   "outputs": [],
   "source": []
  }
 ],
 "metadata": {
  "kernelspec": {
   "display_name": "Python 2",
   "language": "python",
   "name": "python2"
  },
  "language_info": {
   "codemirror_mode": {
    "name": "ipython",
    "version": 2
   },
   "file_extension": ".py",
   "mimetype": "text/x-python",
   "name": "python",
   "nbconvert_exporter": "python",
   "pygments_lexer": "ipython2",
   "version": "2.7.10"
  }
 },
 "nbformat": 4,
 "nbformat_minor": 0
}
