{
 "cells": [
  {
   "cell_type": "markdown",
   "metadata": {},
   "source": [
    "# Event Ranking and Distance Optimization"
   ]
  },
  {
   "cell_type": "markdown",
   "metadata": {},
   "source": [
    "Goal: Given a list of events with locations, distances, and ranks, find the optimal route."
   ]
  },
  {
   "cell_type": "code",
   "execution_count": 1,
   "metadata": {
    "collapsed": true
   },
   "outputs": [],
   "source": [
    "import networkx as nx"
   ]
  },
  {
   "cell_type": "code",
   "execution_count": 2,
   "metadata": {
    "collapsed": false
   },
   "outputs": [],
   "source": [
    "from pandas import to_datetime\n",
    "from numpy import exp"
   ]
  },
  {
   "cell_type": "markdown",
   "metadata": {},
   "source": [
    "Define the starting location/date and ending location/date"
   ]
  },
  {
   "cell_type": "code",
   "execution_count": 77,
   "metadata": {
    "collapsed": true
   },
   "outputs": [],
   "source": [
    "rank_norm = 13.2 # the average shortest path between artists, on average"
   ]
  },
  {
   "cell_type": "code",
   "execution_count": 89,
   "metadata": {
    "collapsed": false
   },
   "outputs": [],
   "source": [
    "start = dict(band='start',date='2016-07-01', lat=34,lon=-80,rank=0)\n",
    "# for the end point, use rank-rank_norm to give the distance weight 1\n",
    "end = dict(band='end',date='2016-07-06', lat=38,lon=-80,rank=rank_norm)"
   ]
  },
  {
   "cell_type": "code",
   "execution_count": 90,
   "metadata": {
    "collapsed": false
   },
   "outputs": [],
   "source": [
    "events = []\n",
    "events.append(dict(band='A',date='2016-07-01', lat=35,lon=-80,rank=5))\n",
    "events.append(dict(band='B',date='2016-07-01', lat=36,lon=-80,rank=10))\n",
    "events.append(dict(band='C',date='2016-07-03', lat=37,lon=-80,rank=4))\n",
    "events.append(start)\n",
    "events.append(end)"
   ]
  },
  {
   "cell_type": "code",
   "execution_count": 91,
   "metadata": {
    "collapsed": false
   },
   "outputs": [
    {
     "data": {
      "text/plain": [
       "[{'band': 'A', 'date': '2016-07-01', 'lat': 35, 'lon': -80, 'rank': 5},\n",
       " {'band': 'B', 'date': '2016-07-01', 'lat': 36, 'lon': -80, 'rank': 10},\n",
       " {'band': 'C', 'date': '2016-07-03', 'lat': 37, 'lon': -80, 'rank': 4},\n",
       " {'band': 'start', 'date': '2016-07-01', 'lat': 34, 'lon': -80, 'rank': 0},\n",
       " {'band': 'end', 'date': '2016-07-06', 'lat': 38, 'lon': -80, 'rank': 13.2}]"
      ]
     },
     "execution_count": 91,
     "metadata": {},
     "output_type": "execute_result"
    }
   ],
   "source": [
    "events"
   ]
  },
  {
   "cell_type": "code",
   "execution_count": 126,
   "metadata": {
    "collapsed": true
   },
   "outputs": [],
   "source": [
    "DG = nx.DiGraph() # create a new directed graph"
   ]
  },
  {
   "cell_type": "code",
   "execution_count": 127,
   "metadata": {
    "collapsed": true
   },
   "outputs": [],
   "source": [
    "dist_norm = lldist( start['lat'], start['lon'], end['lat'], end['lon'] ) "
   ]
  },
  {
   "cell_type": "code",
   "execution_count": 94,
   "metadata": {
    "collapsed": true
   },
   "outputs": [],
   "source": [
    "def lldist(lat1,lon1,lat2,lon2):\n",
    "        '''\n",
    "        A measure of the distance between two lat/lon points.\n",
    "        For right now, just using straight line distance.\n",
    "        '''\n",
    "        return lat2-lat1"
   ]
  },
  {
   "cell_type": "code",
   "execution_count": 139,
   "metadata": {
    "collapsed": false
   },
   "outputs": [
    {
     "name": "stdout",
     "output_type": "stream",
     "text": [
      "A C 0.249046195027\n",
      "A end 0.75\n",
      "B C 0.124523097513\n",
      "B end 0.5\n",
      "C end 0.25\n",
      "start C 0.37356929254\n",
      "start end 1.0\n"
     ]
    }
   ],
   "source": [
    "for i in events:\n",
    "    DG.add_node(i['band'],date=i['date'])\n",
    "    DG.add_node(i['band'],rank=i['rank'])\n",
    "    for j in events:\n",
    "        day1 = to_datetime(i['date'])\n",
    "        day2 = to_datetime(j['date'])\n",
    "        deltaDay = day2 - day1\n",
    "        if (deltaDay.days > 0):\n",
    "            wght = (1.0*lldist( i['lat'], i['lon'], j['lat'], j['lon'] ) /dist_norm) * exp((j['rank']/rank_norm)-1)\n",
    "            print i['band'],j['band'], wght\n",
    "            DG.add_weighted_edges_from([(i['band'],j['band'],wght)])"
   ]
  },
  {
   "cell_type": "code",
   "execution_count": 140,
   "metadata": {
    "collapsed": false
   },
   "outputs": [
    {
     "data": {
      "text/plain": [
       "[('A', 'C'),\n",
       " ('A', 'end'),\n",
       " ('start', 'C'),\n",
       " ('start', 'end'),\n",
       " ('C', 'end'),\n",
       " ('B', 'C'),\n",
       " ('B', 'end')]"
      ]
     },
     "execution_count": 140,
     "metadata": {},
     "output_type": "execute_result"
    }
   ],
   "source": [
    "DG.edges()"
   ]
  },
  {
   "cell_type": "code",
   "execution_count": 141,
   "metadata": {
    "collapsed": false
   },
   "outputs": [],
   "source": [
    "path = nx.shortest_path(DG,'start','end','weight')"
   ]
  },
  {
   "cell_type": "code",
   "execution_count": 142,
   "metadata": {
    "collapsed": false
   },
   "outputs": [
    {
     "name": "stdout",
     "output_type": "stream",
     "text": [
      "{'date': '2016-07-01', 'rank': 0}\n",
      "{'date': '2016-07-03', 'rank': 4}\n",
      "{'date': '2016-07-06', 'rank': 13.2}\n"
     ]
    }
   ],
   "source": [
    "for i in path: print DG.node[i]"
   ]
  },
  {
   "cell_type": "code",
   "execution_count": 100,
   "metadata": {
    "collapsed": false
   },
   "outputs": [],
   "source": [
    "eDay = to_datetime('2016-04-20T14:00:00')"
   ]
  },
  {
   "cell_type": "code",
   "execution_count": 111,
   "metadata": {
    "collapsed": false
   },
   "outputs": [
    {
     "data": {
      "text/plain": [
       "'Wed Apr 20 14:00:00 2016'"
      ]
     },
     "execution_count": 111,
     "metadata": {},
     "output_type": "execute_result"
    }
   ],
   "source": [
    "eDay.ctime()"
   ]
  },
  {
   "cell_type": "code",
   "execution_count": 120,
   "metadata": {
    "collapsed": false
   },
   "outputs": [
    {
     "name": "stdout",
     "output_type": "stream",
     "text": [
      "A\n",
      "B\n",
      "C\n",
      "start\n",
      "end\n"
     ]
    }
   ],
   "source": [
    "for i in events:\n",
    "    print i['band']"
   ]
  },
  {
   "cell_type": "code",
   "execution_count": 124,
   "metadata": {
    "collapsed": false
   },
   "outputs": [],
   "source": [
    "DG.node['A']['time'] = '5pm'"
   ]
  },
  {
   "cell_type": "code",
   "execution_count": 130,
   "metadata": {
    "collapsed": false
   },
   "outputs": [
    {
     "data": {
      "text/plain": [
       "{'date': '2016-07-01'}"
      ]
     },
     "execution_count": 130,
     "metadata": {},
     "output_type": "execute_result"
    }
   ],
   "source": [
    "DG.node['A']"
   ]
  },
  {
   "cell_type": "code",
   "execution_count": null,
   "metadata": {
    "collapsed": true
   },
   "outputs": [],
   "source": []
  }
 ],
 "metadata": {
  "kernelspec": {
   "display_name": "Python 2",
   "language": "python",
   "name": "python2"
  },
  "language_info": {
   "codemirror_mode": {
    "name": "ipython",
    "version": 2
   },
   "file_extension": ".py",
   "mimetype": "text/x-python",
   "name": "python",
   "nbconvert_exporter": "python",
   "pygments_lexer": "ipython2",
   "version": "2.7.11"
  }
 },
 "nbformat": 4,
 "nbformat_minor": 0
}
