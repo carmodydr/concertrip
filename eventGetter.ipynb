{
 "cells": [
  {
   "cell_type": "code",
   "execution_count": 4,
   "metadata": {
    "collapsed": true
   },
   "outputs": [],
   "source": [
    "import time \n",
    "import requests\n",
    "import operator\n",
    "import numpy as np\n",
    "import json"
   ]
  },
  {
   "cell_type": "code",
   "execution_count": 16,
   "metadata": {
    "collapsed": false
   },
   "outputs": [
    {
     "name": "stdout",
     "output_type": "stream",
     "text": [
      "The Edgewater 43.079273 -89.39021 Yahara Lakes 101 Science Cafe 2016-06-09T08:00:00\n",
      "The Edgewater 43.079273 -89.39021 Becky Larson 2016-06-09T08:00:00\n",
      "East Side Club 43.0862623 -89.3272084 Lakeside 2016-06-09T17:00:00\n",
      "Playhaven Vilas 43.0627937 -89.4080582 Rich Baumann 2016-06-09T17:30:00\n",
      "1001 Wisconsin Pl 43.0791896 -89.3896859 Sunset Music Series 2016-06-09T18:00:00\n",
      "High Noon Saloon 43.079775 -89.376529 Summer Patio Series 2016-06-09T18:00:00\n",
      "High Noon Saloon 43.079775 -89.376529 Kerosene Kites 2016-06-09T18:00:00\n",
      "High Noon Saloon 43.079775 -89.376529 Band Together For Autism 2016-06-09T18:00:00\n",
      "High Noon Saloon 43.079775 -89.376529 The American Dead 2016-06-09T18:00:00\n",
      "High Noon Saloon 43.079775 -89.376529 Fringe Character 2016-06-09T18:00:00\n",
      "High Noon Saloon 43.079775 -89.376529 Beth Kille 2016-06-09T18:00:00\n",
      "The  Sky Bar at The Edgewater 43.0791896 -89.3896859 Isthmus Sky Bar High Life Series at The Edgewater 2016-06-09T18:00:00\n",
      "The  Sky Bar at The Edgewater 43.0791896 -89.3896859 REYNA 2016-06-09T18:00:00\n",
      "The  Sky Bar at The Edgewater 43.0791896 -89.3896859 DJ Nick Nice 2016-06-09T18:00:00\n",
      "Mount Horeb Frolic Beer Tent 6-9PM 43.0086111 -89.7383333 Feralcats 2016-06-09T18:00:00\n",
      "Cardinal Bar 43.0757818 -89.3771378 Pedro Juan Rivera 2016-06-09T18:00:00\n",
      "Babe's 43.0464271 -89.4775084 Tracy Jane Comer 2016-06-09T18:00:00\n",
      "Babe's 43.0464271 -89.4775084 Acoustic Alloy 2016-06-09T18:00:00\n",
      "Lakeside Concert Series 43.0730556 -89.4011111 Swear and Shake 2016-06-09T19:00:00\n",
      "The Frequency 43.072705 -89.384352 Of Brighter Skies 2016-06-09T19:00:00\n",
      "The Frequency 43.072705 -89.384352 Forgetting Charlie 2016-06-09T19:00:00\n",
      "The Frequency 43.072705 -89.384352 The Ferns 2016-06-09T19:00:00\n",
      "The Brink Lounge: Live at Rick's Presents 43.0730556 -89.4011111 Danika Holmes 2016-06-09T19:00:00\n",
      "The Wisco 43.078972 -89.370694 Vampirates 2016-06-09T20:00:00\n",
      "Club Tavern 43.09692 -89.495064 Sam Llanas 2016-06-09T20:00:00\n",
      "Ivory Room Piano Bar 43.0744442 -89.3872211 Dueler's Den VIP 2016-06-09T21:00:00\n",
      "Mr. Roberts 43.0929909 -89.3515015 BRONSON WISCONSIN 2016-06-09T21:00:00\n",
      "Four Winds Manor 42.9874573 -89.5298538 Rich Baumann 2016-06-10T10:00:00\n",
      "Isthmus 43.0747546 -89.386558 the Lakers Isthmus Live Session 2016-06-10T14:00:00\n",
      "Halverson's 42.9531631 -89.2798462 Tracy Jane Comer 2016-06-10T18:00:00\n",
      "Halverson's 42.9531631 -89.2798462 Acoustic Alloy 2016-06-10T18:00:00\n",
      "Capitol Brewery 43.0948753 -89.5162506 The Sharrows 2016-06-10T18:00:00\n",
      "The Majestic Theater 43.0730556 -89.4011111 Sonny Knight & The Lakers 2016-06-10T19:00:00\n",
      "UW-Madison Memorial Union Terrace 43.0764503 -89.399025 BRONSON WISCONSIN 2016-06-10T20:00:00\n",
      "Ivory Room Piano Bar 43.0744442 -89.3872211 Dueler's Den VIP 2016-06-10T20:00:00\n",
      "Ivory Room Piano Bar 43.0744442 -89.3872211 Reserved Piano Side Table 2016-06-10T20:00:00\n",
      "Hammy's Roadside Bar 42.6479293 -89.0310701 Thirsty Jones 2016-06-10T20:00:00\n",
      "The Brink Lounge 43.080002 -89.37648 Dan Hubbard 2016-06-10T20:00:00\n",
      "Majestic Theatre 43.074531 -89.381617 Sonny Knight 2016-06-10T20:30:00\n",
      "Majestic Theatre 43.074531 -89.381617 The Lakers 2016-06-10T20:30:00\n",
      "MAJESTIC THEATRE  MADISON 43.074418 -89.380851 Clyde 2016-06-10T20:30:00\n",
      "Mount Horeb Summer Frolic 43.0086899 -89.7340393 5th Gear 2016-06-10T21:00:00\n",
      "The Edgewater 43.079273 -89.39021 The Appleseed Collective 2016-06-10T21:00:00\n",
      "The Edgewater 43.079273 -89.39021 Brewgrass Fridays 2016-06-10T21:00:00\n",
      "The Edgewater 43.079273 -89.39021 Door Country Brewing Co 2016-06-10T21:00:00\n",
      "The Frequency 43.072705 -89.384352 City Of Ghosts 2016-06-10T21:00:00\n",
      "The Frequency 43.072705 -89.384352 Hidden Hospitals 2016-06-10T21:00:00\n",
      "The Frequency 43.072705 -89.384352 Street Names 2016-06-10T21:00:00\n",
      "High Noon Saloon 43.079775 -89.376529 Hometown Sweethearts 2016-06-10T21:30:00\n",
      "High Noon Saloon 43.079775 -89.376529 Cork n' Bottle String Band 2016-06-10T21:30:00\n",
      "High Noon Saloon 43.079775 -89.376529 20th Anniversary Show! 2016-06-10T21:30:00\n",
      "Liquid 43.073228 -89.396944 Caden 2016-06-10T22:00:00\n",
      "Downtown Janesville 42.6739388 -89.012558 Liv Rather 2016-06-11T08:00:00\n",
      "Marquette Waterfront Festival 43.087149 -89.35183 The April Verch Band 2016-06-11T09:00:00\n",
      "Parisi Park 43.1004871 -89.5014712 Breakfast  Birding 2016-06-11T10:30:00\n",
      "Marquette Waterfront Music Festival 43.0730556 -89.4011111 Shannon McNally 2016-06-11T16:00:00\n",
      "Waunakee High School  43.182476 -89.4575882 Ustad Shahid Parvez Khan 2016-06-11T16:00:00\n",
      "Capitol Lakes 43.0707016 -89.3869781 Rich Baumann 2016-06-11T19:00:00\n",
      "Orpheum Theatre  43.0730556 -89.4011111 Twin Peaks 2016-06-11T19:00:00\n",
      "Orpheum Theatre  43.0730556 -89.4011111 Cage the Elephant 2016-06-11T19:00:00\n",
      "Orpheum Theatre  43.0730556 -89.4011111 Portugal. The Man 2016-06-11T19:00:00\n",
      "Yahara Place Park 43.0882797 -89.3505402 Boogat 2016-06-11T19:00:00\n",
      "Art In The Barn 42.9631767 -89.4541855 Richard Shindell 2016-06-11T19:30:00\n",
      "CRESCENDO ESPRESSO BAR & MUSIC CAFE 43.064707 -89.417067 Ryan Montbleau 2016-06-11T20:00:00\n",
      "Ivory Room Piano Bar 43.0744442 -89.3872211 Dueler's Den VIP 2016-06-11T20:00:00\n",
      "Ivory Room Piano Bar 43.0744442 -89.3872211 Reserved Piano Side Table 2016-06-11T20:00:00\n",
      "Williamson Magnetic Recording Company 43.0730556 -89.4011111 Hi/Jack 2016-06-11T20:00:00\n",
      "The Back Bar 42.6827778 -89.0186111 Go Play God 2016-06-11T20:00:00\n",
      "The Hody Bar 43.0961587 -89.5128666 Mr. Burgundy 2016-06-11T20:00:00\n",
      "Cronies 42.3909985 -89.0170985 Midwest Music Support 2016-06-11T20:00:04\n",
      "Tricia's Country Corners 43.0513514 -89.2466435 Best Practice 2016-06-11T21:00:00\n",
      "High Noon Saloon 43.079775 -89.376529 Gloss Coats 2016-06-11T21:30:00\n",
      "High Noon Saloon 43.079775 -89.376529 Trap Saturn 2016-06-11T21:30:00\n",
      "High Noon Saloon 43.079775 -89.376529 Disq 2016-06-11T21:30:00\n",
      "The Frequency 43.072705 -89.384352 An Intimate Evening 2016-06-11T22:00:00\n",
      "The Frequency 43.072705 -89.384352 The Apollo Affair 2016-06-11T22:00:00\n",
      "The Frequency 43.072705 -89.384352 Gods In The Chrysalis 2016-06-11T22:00:00\n",
      "The Frequency 43.072705 -89.384352 Good Old War 2016-06-11T22:00:00\n"
     ]
    },
    {
     "data": {
      "text/plain": [
       "'\\nuseful quantities in the JSON:\\nurl, ticket_url\\nvenue: city, name, url, country, region, longitude, latitude, id\\non_sale_datetime, datetime\\nartists: url, mbid, name\\n'"
      ]
     },
     "execution_count": 16,
     "metadata": {},
     "output_type": "execute_result"
    }
   ],
   "source": [
    "url = 'http://api.bandsintown.com/events/search'\n",
    "appID = 'insightprojectDC'\n",
    "\n",
    "# Attica\n",
    "lat = 42.77\n",
    "lon = -89.480560\n",
    "url = 'http://api.bandsintown.com/events/search?location='+str(lat)+','+str(lon)+'&format=json&app_id=' + appID\n",
    "\n",
    "response = requests.request( 'get', url)\n",
    "parsedResponse = response.json()\n",
    "\n",
    "#print parsedResponse\n",
    "for i in parsedResponse:\n",
    "    for j in i['artists']:\n",
    "        print i['venue']['name'], i['venue']['latitude'], i['venue']['longitude'], j['name'], i['datetime']\n",
    "\n",
    "'''\n",
    "useful quantities in the JSON:\n",
    "url, ticket_url\n",
    "venue: city, name, url, country, region, longitude, latitude, id\n",
    "on_sale_datetime, datetime\n",
    "artists: url, mbid, name\n",
    "'''"
   ]
  },
  {
   "cell_type": "code",
   "execution_count": null,
   "metadata": {
    "collapsed": true
   },
   "outputs": [],
   "source": []
  }
 ],
 "metadata": {
  "kernelspec": {
   "display_name": "Python 2",
   "language": "python",
   "name": "python2"
  },
  "language_info": {
   "codemirror_mode": {
    "name": "ipython",
    "version": 2
   },
   "file_extension": ".py",
   "mimetype": "text/x-python",
   "name": "python",
   "nbconvert_exporter": "python",
   "pygments_lexer": "ipython2",
   "version": "2.7.10"
  }
 },
 "nbformat": 4,
 "nbformat_minor": 0
}
